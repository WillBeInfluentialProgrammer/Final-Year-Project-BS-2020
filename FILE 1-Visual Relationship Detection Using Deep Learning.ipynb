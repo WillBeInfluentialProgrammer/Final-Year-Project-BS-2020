{
 "cells": [
  {
   "cell_type": "code",
   "execution_count": null,
   "metadata": {},
   "outputs": [],
   "source": [
    "import cv2\n",
    "import tkinter as tk\n",
    "from tkinter import *\n",
    "from PIL import Image, ImageTk\n",
    "from tkinter.filedialog import askopenfile, asksaveasfile\n",
    "\n",
    "main_window = tk.Tk()\n",
    "main_window.title(\"Visual Relationship Detection System\")\n",
    "main_window.configure(bg='white')\n",
    "main_window.geometry('700x500')\n",
    "\n",
    "label1 = tk.Label(main_window, text=\"Visual Relationship Detection System\", font=(\"Tempus Sans ITC\", 19), bg='white',\n",
    "                  fg='black')\n",
    "label1.place(x=160, y=10)\n",
    "\n",
    "photo_save = PhotoImage(file=r\"save.png\")\n",
    "photo_close = PhotoImage(file=r\"close.png\")\n",
    "photo_camera = PhotoImage(file=r\"camera.png\")\n",
    "photo_browse = PhotoImage(file=r\"browse.png\")\n",
    "\n",
    "def close_window():\n",
    "    main_window.destroy()\n",
    "\n",
    "def save():\n",
    "    files = [('All Files', '*.*'), ('Python Files', '*.py'), ('Text Document', '*.txt')]\n",
    "    file = asksaveasfile(filetypes=files, defaultextension=files)"
   ]
  },
  {
   "cell_type": "code",
   "execution_count": null,
   "metadata": {},
   "outputs": [],
   "source": [
    "# creating buttons and setting positions of the buttons\n",
    "\n",
    "Button(main_window, command=save, image=photo_save).place(x=500, y=420)\n",
    "Button(main_window, command=close_window, image=photo_close).place(x=600, y=420)\n",
    "Button(main_window, command=button1_clicked, image=photo_camera).place(x=80, y=250)\n",
    "Button(main_window, command=open_file, image=photo_browse).place(x=80, y=350)"
   ]
  },
  {
   "cell_type": "code",
   "execution_count": null,
   "metadata": {},
   "outputs": [],
   "source": [
    "# logo of project\n",
    "\n",
    "logo = PhotoImage(file=r\"logo.png\")\n",
    "logoproject = Label(main_window, image=logo)\n",
    "logoproject.place(x=570, y=0)\n",
    "\n"
   ]
  },
  {
   "cell_type": "code",
   "execution_count": null,
   "metadata": {},
   "outputs": [],
   "source": [
    "# adding picture\n",
    "\n",
    "logo_vision = PhotoImage(file=r\"cvlogo.png\")\n",
    "logovision = Label(main_window, image=logo_vision, bg='white')\n",
    "logovision.place(x=0, y=0)\n"
   ]
  },
  {
   "cell_type": "code",
   "execution_count": null,
   "metadata": {},
   "outputs": [],
   "source": [
    "# take a picture on real-time\n",
    "\n",
    "\n",
    "def button1_clicked():\n",
    "    cam = cv2.VideoCapture(0)\n",
    "\n",
    "    cv2.namedWindow(\"test\")\n",
    "\n",
    "    img_counter = 0\n",
    "\n",
    "    while True:\n",
    "        ret, frame = cam.read()\n",
    "        cv2.imshow(\"test\", frame)\n",
    "        if not ret:\n",
    "            break\n",
    "        k = cv2.waitKey(1)\n",
    "\n",
    "        if k % 256 == 27:\n",
    "            # ESC pressed\n",
    "            print(\"Escape hit, closing...\")\n",
    "            break\n",
    "        elif k % 256 == 32:\n",
    "            # SPACE pressed\n",
    "            img_name = \"opencv_frame_{}.png\".format(img_counter)\n",
    "            cv2.imwrite(img_name, frame)\n",
    "            print(\"{} written!\".format(img_name))\n",
    "            img_counter += 1\n",
    "\n",
    "    cam.release()\n",
    "    cv2.destroyAllWindows()"
   ]
  },
  {
   "cell_type": "code",
   "execution_count": null,
   "metadata": {},
   "outputs": [],
   "source": [
    "\n",
    "# Browse a file\n",
    "\n",
    "def open_file():\n",
    "    file = askopenfile(initialdir=\"/\", title=\"Select A File\",\n",
    "                       filetype=((\"jpeg files\", \"*.jpg\"), (\"all files\", \"*.*\")))\n",
    "    if file is not None:\n",
    "        content = file.read()\n",
    "        print(content)\n",
    "\n",
    "    labelFrame = tk.LabelFrame()\n",
    "    labelFrame.grid(column=0, row=0, padx=20, pady=20)\n",
    "\n",
    "# Run the window loop\n",
    "\n",
    "main_window.mainloop()"
   ]
  }
 ],
 "metadata": {
  "language_info": {
   "name": "python"
  }
 },
 "nbformat": 4,
 "nbformat_minor": 2
}
